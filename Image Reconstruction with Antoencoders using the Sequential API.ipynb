{
 "cells": [
  {
   "cell_type": "code",
   "execution_count": 1,
   "id": "37fc9e7e",
   "metadata": {},
   "outputs": [],
   "source": [
    "# Loading the data\n",
    "from tensorflow.keras.datasets.mnist import load_data\n",
    "(x_train, y_train), (x_test, y_test) = load_data()"
   ]
  },
  {
   "cell_type": "code",
   "execution_count": 2,
   "id": "d2451852",
   "metadata": {},
   "outputs": [
    {
     "name": "stdout",
     "output_type": "stream",
     "text": [
      "[[[0 0 0 ... 0 0 0]\n",
      "  [0 0 0 ... 0 0 0]\n",
      "  [0 0 0 ... 0 0 0]\n",
      "  ...\n",
      "  [0 0 0 ... 0 0 0]\n",
      "  [0 0 0 ... 0 0 0]\n",
      "  [0 0 0 ... 0 0 0]]\n",
      "\n",
      " [[0 0 0 ... 0 0 0]\n",
      "  [0 0 0 ... 0 0 0]\n",
      "  [0 0 0 ... 0 0 0]\n",
      "  ...\n",
      "  [0 0 0 ... 0 0 0]\n",
      "  [0 0 0 ... 0 0 0]\n",
      "  [0 0 0 ... 0 0 0]]\n",
      "\n",
      " [[0 0 0 ... 0 0 0]\n",
      "  [0 0 0 ... 0 0 0]\n",
      "  [0 0 0 ... 0 0 0]\n",
      "  ...\n",
      "  [0 0 0 ... 0 0 0]\n",
      "  [0 0 0 ... 0 0 0]\n",
      "  [0 0 0 ... 0 0 0]]\n",
      "\n",
      " ...\n",
      "\n",
      " [[0 0 0 ... 0 0 0]\n",
      "  [0 0 0 ... 0 0 0]\n",
      "  [0 0 0 ... 0 0 0]\n",
      "  ...\n",
      "  [0 0 0 ... 0 0 0]\n",
      "  [0 0 0 ... 0 0 0]\n",
      "  [0 0 0 ... 0 0 0]]\n",
      "\n",
      " [[0 0 0 ... 0 0 0]\n",
      "  [0 0 0 ... 0 0 0]\n",
      "  [0 0 0 ... 0 0 0]\n",
      "  ...\n",
      "  [0 0 0 ... 0 0 0]\n",
      "  [0 0 0 ... 0 0 0]\n",
      "  [0 0 0 ... 0 0 0]]\n",
      "\n",
      " [[0 0 0 ... 0 0 0]\n",
      "  [0 0 0 ... 0 0 0]\n",
      "  [0 0 0 ... 0 0 0]\n",
      "  ...\n",
      "  [0 0 0 ... 0 0 0]\n",
      "  [0 0 0 ... 0 0 0]\n",
      "  [0 0 0 ... 0 0 0]]]\n",
      "x_train has shape: (60000, 28, 28)\n",
      "\n",
      "\n",
      "[5 0 4 ... 5 6 8]\n",
      "y_train has shape: (60000,)\n"
     ]
    }
   ],
   "source": [
    "# Print x_train and y_train\n",
    "print(x_train)\n",
    "print('x_train has shape: {}'.format(x_train.shape))\n",
    "print('\\n')\n",
    "print(y_train)\n",
    "print('y_train has shape: {}'.format(y_train.shape))"
   ]
  },
  {
   "cell_type": "code",
   "execution_count": 4,
   "id": "fb4f2050",
   "metadata": {},
   "outputs": [],
   "source": [
    "# Normalizing the data\n",
    "norm_x_train = (x_train/252.0).reshape([-1,784])"
   ]
  },
  {
   "cell_type": "code",
   "execution_count": 5,
   "id": "6a3d9a09",
   "metadata": {},
   "outputs": [],
   "source": [
    "# Extracting a small sample from the training data to inspect visually\n",
    "sample_images, sample_labels = [],[]\n",
    "for i, (img, lbl) in enumerate(zip(x_train, y_train)):\n",
    "    sample_images.append(img)\n",
    "    sample_labels.append(lbl)\n",
    "    if i>=9: break"
   ]
  },
  {
   "cell_type": "code",
   "execution_count": 6,
   "id": "8033fa6a",
   "metadata": {},
   "outputs": [
    {
     "data": {
      "image/png": "[encoded data removed]",
      "text/plain": [
       "<Figure size 864x288 with 10 Axes>"
      ]
     },
     "metadata": {
      "needs_background": "light"
     },
     "output_type": "display_data"
    }
   ],
   "source": [
    "import matplotlib.pyplot as plt\n",
    "# Plotting the images\n",
    "f, axes = plt.subplots(2, 5, figsize=(12,4))\n",
    "for i, (img, lbl) in enumerate(zip(sample_images, sample_labels)):\n",
    "    r, c = i//5, i%5\n",
    "    axes[r,c].imshow(img,cmap='gray')\n",
    "    axes[r,c].axis('off')\n",
    "    axes[r,c].set_title(\"Label {}\".format(lbl))"
   ]
  },
  {
   "cell_type": "code",
   "execution_count": 7,
   "id": "9a811123",
   "metadata": {},
   "outputs": [
    {
     "data": {
      "image/png": "[encoded data removed]",
      "text/plain": [
       "<Figure size 864x288 with 10 Axes>"
      ]
     },
     "metadata": {
      "needs_background": "light"
     },
     "output_type": "display_data"
    }
   ],
   "source": [
    "# Creating corrupted images\n",
    "import numpy as np\n",
    "import matplotlib.pyplot as plt\n",
    "%matplotlib inline\n",
    "\n",
    "x_train_sample = x_train[:10]\n",
    "y_train_sample = y_train[:10]\n",
    "\n",
    "def generate_masked_inputs(x, p, seed=None):\n",
    "    \"\"\" This function applies a binary mask to the input and generate corrupted images \"\"\"\n",
    "    # Fixing the seed\n",
    "    if seed:\n",
    "        np.random.seed(seed)\n",
    "    # Generating a mask using the binomial distribution\n",
    "    mask = np.random.binomial(n=1, p=p, size=x.shape).astype('float32')\n",
    "    return x * mask\n",
    "\n",
    "# Create a training dataset of corrupted images\n",
    "masked_x_train_sample = generate_masked_inputs(x_train_sample, 0.5)\n",
    "\n",
    "# Plotting some of the images\n",
    "f, axes = plt.subplots(2, 5, figsize=(12,4))\n",
    "for i, (img, lbl) in enumerate(zip(masked_x_train_sample, y_train_sample)):\n",
    "    r, c = i//5, i%5\n",
    "    axes[r,c].imshow(img,cmap='gray')\n",
    "    axes[r,c].axis('off')\n",
    "    axes[r,c].set_title(\"Label {}\".format(lbl))"
   ]
  },
  {
   "cell_type": "code",
   "execution_count": 8,
   "id": "0ea1018d",
   "metadata": {},
   "outputs": [
    {
     "name": "stdout",
     "output_type": "stream",
     "text": [
      "Model: \"sequential\"\n",
      "_________________________________________________________________\n",
      "Layer (type)                 Output Shape              Param #   \n",
      "=================================================================\n",
      "dense (Dense)                (None, 64)                50240     \n",
      "_________________________________________________________________\n",
      "dense_1 (Dense)              (None, 32)                2080      \n",
      "_________________________________________________________________\n",
      "dense_2 (Dense)              (None, 64)                2112      \n",
      "_________________________________________________________________\n",
      "dense_3 (Dense)              (None, 784)               50960     \n",
      "=================================================================\n",
      "Total params: 105,392\n",
      "Trainable params: 105,392\n",
      "Non-trainable params: 0\n",
      "_________________________________________________________________\n"
     ]
    }
   ],
   "source": [
    "# Defining the autoencoder model \n",
    "from tensorflow.keras import layers, models\n",
    "import tensorflow.keras.backend as K\n",
    "\n",
    "K.clear_session()\n",
    "\n",
    "# Defining the model\n",
    "autoencoder = models.Sequential(\n",
    "    [layers.Dense(64, activation='relu', input_shape=(784,)),\n",
    "    layers.Dense(32, activation='relu'),\n",
    "    layers.Dense(64, activation='relu'),\n",
    "    layers.Dense(784, activation='sigmoid')]\n",
    ")\n",
    "\n",
    "# Compiling the model\n",
    "autoencoder.compile(loss='mse', optimizer='adam')\n",
    "\n",
    "# Printing the model summary\n",
    "autoencoder.summary()"
   ]
  },
  {
   "cell_type": "code",
   "execution_count": 9,
   "id": "d79613ad",
   "metadata": {},
   "outputs": [
    {
     "name": "stdout",
     "output_type": "stream",
     "text": [
      "Epoch 1/10\n",
      "938/938 [==============================] - 3s 3ms/step - loss: 0.0470\n",
      "Epoch 2/10\n",
      "938/938 [==============================] - 2s 3ms/step - loss: 0.0279\n",
      "Epoch 3/10\n",
      "938/938 [==============================] - 2s 3ms/step - loss: 0.0245\n",
      "Epoch 4/10\n",
      "938/938 [==============================] - 2s 2ms/step - loss: 0.0228\n",
      "Epoch 5/10\n",
      "938/938 [==============================] - 2s 3ms/step - loss: 0.0216\n",
      "Epoch 6/10\n",
      "938/938 [==============================] - 2s 2ms/step - loss: 0.0207\n",
      "Epoch 7/10\n",
      "938/938 [==============================] - 2s 2ms/step - loss: 0.0201\n",
      "Epoch 8/10\n",
      "938/938 [==============================] - 3s 3ms/step - loss: 0.0196\n",
      "Epoch 9/10\n",
      "938/938 [==============================] - 2s 2ms/step - loss: 0.0192\n",
      "Epoch 10/10\n",
      "938/938 [==============================] - 2s 2ms/step - loss: 0.0188\n"
     ]
    }
   ],
   "source": [
    "# Training the model\n",
    "# Generating the corrupted version of norm_x_train to be used as training inputs\n",
    "masked_x_train = generate_masked_inputs(norm_x_train, 0.5, seed=1024)\n",
    "# Fit the model\n",
    "history = autoencoder.fit(masked_x_train, norm_x_train, batch_size=64, epochs=10)"
   ]
  },
  {
   "cell_type": "code",
   "execution_count": 10,
   "id": "f8bd317d",
   "metadata": {},
   "outputs": [
    {
     "data": {
      "text/plain": [
       "Text(0.5, 1.0, 'Autoencoder reconstruction loss for MNIST dataset')"
      ]
     },
     "execution_count": 10,
     "metadata": {},
     "output_type": "execute_result"
    },
    {
     "data": {
      "image/png": "[encoded data removed]",
      "text/plain": [
       "<Figure size 432x288 with 1 Axes>"
      ]
     },
     "metadata": {
      "needs_background": "light"
     },
     "output_type": "display_data"
    }
   ],
   "source": [
    "# Plotting the loss\n",
    "plt.plot(np.arange(1,11), history.history[\"loss\"])\n",
    "plt.xlabel(\"Epoch\")\n",
    "plt.ylabel(\"Reconstruction loss\")\n",
    "plt.title(\"Autoencoder reconstruction loss for MNIST dataset\")"
   ]
  },
  {
   "cell_type": "code",
   "execution_count": 11,
   "id": "23f31052",
   "metadata": {},
   "outputs": [],
   "source": [
    "# Reconstructing corrupted images using the trained model \n",
    "# Using the first 10 samples in our dataset to test the model\n",
    "x_train_sample = x_train[:10]\n",
    "y_train_sample = y_train[:10]\n",
    "\n",
    "# Generating corrupted images using a previously unseen mask\n",
    "masked_x_train_sample = generate_masked_inputs(x_train_sample, 0.5, seed=2048)\n",
    "norm_masked_x = (x_train/252.0).reshape(-1, 784)\n",
    "\n",
    "# Predicting the restored images from corrupted images\n",
    "y_pred = autoencoder.predict(norm_masked_x) "
   ]
  },
  {
   "cell_type": "code",
   "execution_count": 12,
   "id": "a6864e80",
   "metadata": {},
   "outputs": [
    {
     "name": "stdout",
     "output_type": "stream",
     "text": [
      "[[8.44551717e-09 1.18278082e-10 7.92529431e-10 ... 5.48441327e-11\n",
      "  1.81469584e-09 4.04642631e-09]\n",
      " [1.33274245e-08 6.29020558e-10 1.78553961e-09 ... 9.88916504e-10\n",
      "  2.99272673e-09 5.45507461e-08]\n",
      " [3.29573959e-06 2.48302149e-06 6.96183361e-06 ... 1.71871790e-07\n",
      "  3.31275743e-07 6.33903937e-06]\n",
      " ...\n",
      " [5.49407488e-08 8.88538221e-09 3.54169103e-08 ... 3.83360099e-09\n",
      "  9.45155065e-09 8.41200176e-08]\n",
      " [1.36176922e-07 4.81342539e-08 4.05031209e-08 ... 1.72110774e-07\n",
      "  2.19808793e-08 2.21719304e-07]\n",
      " [3.54767991e-07 2.05085584e-07 3.40485030e-07 ... 3.24563871e-07\n",
      "  1.19372260e-07 2.50931885e-06]]\n",
      "y_pred has shape: (60000, 784)\n"
     ]
    }
   ],
   "source": [
    "print(y_pred)\n",
    "print('y_pred has shape: {}'.format(y_pred.shape))"
   ]
  },
  {
   "cell_type": "code",
   "execution_count": 13,
   "id": "c06fc997",
   "metadata": {},
   "outputs": [
    {
     "data": {
      "image/png": "[encoded data removed]",
      "text/plain": [
       "<Figure size 1296x288 with 20 Axes>"
      ]
     },
     "metadata": {
      "needs_background": "light"
     },
     "output_type": "display_data"
    }
   ],
   "source": [
    "# Plotting the corrupted and restored images side-by-side\n",
    "f, axes = plt.subplots(2, 10, figsize=(18,4))\n",
    "for i, (img, res) in enumerate(zip(masked_x_train_sample, y_pred)):\n",
    "    r1, c1 = 0, i\n",
    "    r2, c2 = 1, i\n",
    "    axes[r1,c1].imshow(img,cmap='gray')\n",
    "    axes[r1,c1].axis('off')\n",
    "    \n",
    "    res = (res *252.0).reshape(28,28)\n",
    "    axes[r2,c2].imshow(res,cmap='gray')\n",
    "    axes[r2,c2].axis('off')"
   ]
  },
  {
   "cell_type": "code",
   "execution_count": null,
   "id": "76fd8c41",
   "metadata": {},
   "outputs": [],
   "source": []
  }
 ],
 "metadata": {
  "kernelspec": {
   "display_name": "Python 3",
   "language": "python",
   "name": "python3"
  },
  "language_info": {
   "codemirror_mode": {
    "name": "ipython",
    "version": 3
   },
   "file_extension": ".py",
   "mimetype": "text/x-python",
   "name": "python",
   "nbconvert_exporter": "python",
   "pygments_lexer": "ipython3",
   "version": "3.6.13"
  }
 },
 "nbformat": 4,
 "nbformat_minor": 5
}
